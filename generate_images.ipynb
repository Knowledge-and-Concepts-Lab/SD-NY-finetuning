{
 "cells": [
  {
   "cell_type": "code",
   "execution_count": null,
   "metadata": {},
   "outputs": [],
   "source": [
    "!git clone https://github.com/Knowledge-and-Concepts-Lab/SD-NY-finetuning/\n",
    "%cd SD-NY-finetuning\n",
    "!pip install --upgrade pip\n",
    "!pip install -r requirements.txt\n",
    "\n",
    "!pip install --upgrade keras # on lambda stack we need to upgrade keras\n",
    "!pip uninstall -y torchtext # on colab we need to remove torchtext\n",
    "     "
   ]
  },
  {
   "cell_type": "code",
   "execution_count": null,
   "metadata": {},
   "outputs": [],
   "source": [
    "\n",
    "!pip install huggingface_hub\n",
    "from huggingface_hub import notebook_login\n",
    "\n",
    "notebook_login()"
   ]
  },
  {
   "cell_type": "code",
   "execution_count": null,
   "metadata": {},
   "outputs": [],
   "source": [
    "from huggingface_hub import hf_hub_download\n",
    "ckpt_path = hf_hub_download(repo_id=\"siddsuresh97/fine-tune-sd-new-yorker\", filename=\"epoch=000064.ckpt\", use_auth_token=True)"
   ]
  },
  {
   "cell_type": "code",
   "execution_count": null,
   "metadata": {},
   "outputs": [],
   "source": [
    "!(python scripts/txt2img.py \\\n",
    "    --prompt \"People are in a boat paddling. A huge wave with a scary face and arms tries to get them. The Statue of Liberty is in the background.\" \\\n",
    "    --outdir 'outputs/new_yorker' \\\n",
    "    --H 512 --W 512 \\\n",
    "    --n_samples 4 \\\n",
    "    --config 'configs/stable-diffusion/pokemon.yaml' \\\n",
    "    --ckpt $ckpt_path)\n",
    "     "
   ]
  }
 ],
 "metadata": {
  "language_info": {
   "name": "python"
  },
  "orig_nbformat": 4
 },
 "nbformat": 4,
 "nbformat_minor": 2
}
