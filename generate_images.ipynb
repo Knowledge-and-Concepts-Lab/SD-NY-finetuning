{
 "cells": [
  {
   "cell_type": "code",
   "execution_count": null,
   "metadata": {},
   "outputs": [],
   "source": [
    "!git clone https://github.com/Knowledge-and-Concepts-Lab/SD-NY-finetuning/\n",
    "%cd stable-diffusion\n",
    "!pip install --upgrade pip\n",
    "!pip install -r requirements.txt\n",
    "\n",
    "!pip install --upgrade keras # on lambda stack we need to upgrade keras\n",
    "!pip uninstall -y torchtext # on colab we need to remove torchtext\n",
    "     "
   ]
  },
  {
   "cell_type": "code",
   "execution_count": null,
   "metadata": {},
   "outputs": [],
   "source": [
    "\n",
    "!pip install huggingface_hub\n",
    "from huggingface_hub import notebook_login\n",
    "\n",
    "notebook_login()"
   ]
  },
  {
   "cell_type": "code",
   "execution_count": null,
   "metadata": {},
   "outputs": [],
   "source": [
    "from huggingface_hub import hf_hub_download\n",
    "ckpt_path = hf_hub_download(repo_id=\"siddsuresh97/fine-tune-sd-new-yorker\", filename=\"epoch=000064.ckpt\", use_auth_token=True)"
   ]
  },
  {
   "cell_type": "code",
   "execution_count": null,
   "metadata": {},
   "outputs": [],
   "source": [
    "!(python scripts/txt2img.py \\\n",
    "    --prompt 'robotic cat with wings' \\\n",
    "    --outdir 'outputs/ney_yorker' \\\n",
    "    --H 512 --W 512 \\\n",
    "    --n_samples 4 \\\n",
    "    --config 'configs/stable-diffusion/pokemon.yaml' \\\n",
    "    --ckpt 'path/to/your/checkpoint')\n",
    "     "
   ]
  }
 ],
 "metadata": {
  "language_info": {
   "name": "python"
  },
  "orig_nbformat": 4
 },
 "nbformat": 4,
 "nbformat_minor": 2
}
